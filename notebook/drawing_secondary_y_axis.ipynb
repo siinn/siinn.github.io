{
 "cells": [
  {
   "cell_type": "code",
   "execution_count": 12,
   "metadata": {
    "collapsed": true
   },
   "outputs": [],
   "source": [
    "import pandas as pd\n",
    "import numpy as np\n",
    "import matplotlib.pyplot as plt"
   ]
  },
  {
   "cell_type": "code",
   "execution_count": 13,
   "metadata": {
    "collapsed": true
   },
   "outputs": [],
   "source": [
    "index = pd.MultiIndex.from_tuples([(\"top\",1),(\"top\",2),(\"bottom\",1),(\"bottom\",2)], names=['first', 'second'])"
   ]
  },
  {
   "cell_type": "code",
   "execution_count": 14,
   "metadata": {
    "scrolled": false
   },
   "outputs": [
    {
     "data": {
      "text/plain": [
       "MultiIndex(levels=[['bottom', 'top'], [1, 2]],\n",
       "           labels=[[1, 1, 0, 0], [0, 1, 0, 1]],\n",
       "           names=['first', 'second'])"
      ]
     },
     "execution_count": 14,
     "metadata": {},
     "output_type": "execute_result"
    }
   ],
   "source": [
    "index"
   ]
  },
  {
   "cell_type": "code",
   "execution_count": 15,
   "metadata": {
    "collapsed": true
   },
   "outputs": [],
   "source": [
    "df = pd.DataFrame(np.random.randn(3, 4), index=['A', 'B', 'C'], columns=index)"
   ]
  },
  {
   "cell_type": "code",
   "execution_count": 16,
   "metadata": {},
   "outputs": [
    {
     "name": "stdout",
     "output_type": "stream",
     "text": [
      "first        top              bottom          \n",
      "second         1         2         1         2\n",
      "A      -0.397161 -0.440040  0.817771  1.209292\n",
      "B      -1.001034 -1.249527 -0.509801 -0.809356\n",
      "C       0.572783  1.456924 -0.964126 -0.149659\n"
     ]
    }
   ],
   "source": [
    "print(df.head(3))"
   ]
  },
  {
   "cell_type": "code",
   "execution_count": 17,
   "metadata": {
    "collapsed": true
   },
   "outputs": [],
   "source": [
    "fig, ax1 = plt.subplots()"
   ]
  },
  {
   "cell_type": "code",
   "execution_count": 18,
   "metadata": {},
   "outputs": [
    {
     "data": {
      "text/plain": [
       "<matplotlib.axes._subplots.AxesSubplot at 0x1158e5ac8>"
      ]
     },
     "execution_count": 18,
     "metadata": {},
     "output_type": "execute_result"
    }
   ],
   "source": [
    "#df.plot(use_index=True,y=\"top\", secondary_y=\"bottom\", ax=ax1)\n",
    "df.plot(use_index=True,y=\"top\", ax=ax1)\n",
    "df.plot(use_index=True,y=\"bottom\", secondary_y=True, ax=ax1)"
   ]
  },
  {
   "cell_type": "code",
   "execution_count": 19,
   "metadata": {},
   "outputs": [],
   "source": [
    "ax1.set_ylabel('$I_{PIN}$ [mA]')\n",
    "ymin, ymax = ax1.get_ylim()\n",
    "ax1.set_ylim([ymin*1.5,ymax*1.5])\n",
    "ax1.legend(loc='upper center', bbox_to_anchor=(0.5, 1.00), ncol=3)\n",
    "ax1.autoscale(enable=True, axis='x')\n",
    "if hasattr(ax1, 'right_ax'):\n",
    "    ax1.right_ax.set_ylabel('active modules')\n",
    "    ax1.right_ax.set_ylim([-3,2])\n",
    "    ax1.right_ax.legend(loc='upper right')"
   ]
  },
  {
   "cell_type": "code",
   "execution_count": 20,
   "metadata": {},
   "outputs": [
    {
     "data": {
      "image/png": "[encoded data removed]",
      "text/plain": [
       "<matplotlib.figure.Figure at 0x115790be0>"
      ]
     },
     "metadata": {},
     "output_type": "display_data"
    }
   ],
   "source": [
    "plt.show()"
   ]
  }
 ],
 "metadata": {
  "kernelspec": {
   "display_name": "Python 3",
   "language": "python",
   "name": "python3"
  },
  "language_info": {
   "codemirror_mode": {
    "name": "ipython",
    "version": 3
   },
   "file_extension": ".py",
   "mimetype": "text/x-python",
   "name": "python",
   "nbconvert_exporter": "python",
   "pygments_lexer": "ipython3",
   "version": "3.6.1"
  }
 },
 "nbformat": 4,
 "nbformat_minor": 2
}
